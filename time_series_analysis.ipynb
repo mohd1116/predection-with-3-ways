{
 "cells": [
  {
   "cell_type": "markdown",
   "metadata": {},
   "source": [
    "installing required libraries"
   ]
  },
  {
   "cell_type": "code",
   "execution_count": null,
   "metadata": {},
   "outputs": [],
   "source": [
    "!pip install pandas numpy tensorflow  keras prophet scikit-learn statsmodels"
   ]
  },
  {
   "cell_type": "markdown",
   "metadata": {},
   "source": [
    "importing libraries"
   ]
  },
  {
   "cell_type": "code",
   "execution_count": null,
   "metadata": {},
   "outputs": [],
   "source": [
    "import pandas as pd\n",
    "import numpy as np\n",
    "from statsmodels.tsa.arima.model import ARIMA\n",
    "from prophet import Prophet\n",
    "from sklearn.preprocessing import MinMaxScaler\n",
    "from keras.models import Sequential\n",
    "from keras.layers import LSTM, Dense\n",
    "from tensorflow.keras.optimizers import Adam\n",
    "from sklearn.metrics import mean_absolute_percentage_error as mape"
   ]
  },
  {
   "cell_type": "markdown",
   "metadata": {},
   "source": [
    "change the name to the csv file desired to run the script on "
   ]
  },
  {
   "cell_type": "code",
   "execution_count": null,
   "metadata": {},
   "outputs": [],
   "source": [
    "datasample = 'sample.xlsx' #<<<<change file name\n",
    "df = pd.read_excel(datasample)"
   ]
  },
  {
   "cell_type": "markdown",
   "metadata": {},
   "source": [
    "Displaying the data "
   ]
  },
  {
   "cell_type": "code",
   "execution_count": null,
   "metadata": {},
   "outputs": [],
   "source": [
    "display(df)"
   ]
  },
  {
   "cell_type": "markdown",
   "metadata": {},
   "source": [
    "specify the number where the time series starts."
   ]
  },
  {
   "cell_type": "code",
   "execution_count": null,
   "metadata": {},
   "outputs": [],
   "source": [
    "columns = df.columns\n",
    "\n",
    "print(f\"Column Number -\\tColumn Name\")\n",
    "for i in range(len(columns)):\n",
    "    print(f\"{i + 1} -\\t\\t{columns[i]}\")\n",
    "ts_col_index = int(input(\"specify the column number where the time series starts. \")) - 1"
   ]
  },
  {
   "cell_type": "code",
   "execution_count": null,
   "metadata": {},
   "outputs": [],
   "source": [
    "ts_col = df.iloc[:, ts_col_index:].columns"
   ]
  },
  {
   "cell_type": "markdown",
   "metadata": {},
   "source": [
    "preproccessing the data"
   ]
  },
  {
   "cell_type": "code",
   "execution_count": null,
   "metadata": {},
   "outputs": [],
   "source": [
    "remove_outliers = input(\"Do you want to remove outliers? (yes/no): \").strip().lower() == 'yes'\n",
    "\n",
    "for feature in ts_col:\n",
    "    # Calculate the median of the current column\n",
    "    median_val = df[feature].median()\n",
    "    \n",
    "    # Replace zeros with the median value\n",
    "    df[feature].replace(0, median_val, inplace=True)\n",
    "    \n",
    "    # Fill null values with the median value\n",
    "    df[feature].fillna(median_val, inplace=True)\n",
    "    \n",
    "    if remove_outliers:\n",
    "        # Calculate the interquartile range (IQR) for outlier detection\n",
    "        first_quartile = df[feature].quantile(0.25)\n",
    "        third_quartile = df[feature].quantile(0.75)\n",
    "        iqr = third_quartile - first_quartile\n",
    "        \n",
    "        # Define the acceptable range to detect outliers\n",
    "        lower_bound = first_quartile - 1.5 * iqr\n",
    "        upper_bound = third_quartile + 1.5 * iqr\n",
    "        \n",
    "        # Mark outliers as NaN\n",
    "        non_outliers = df[feature].between(lower_bound, upper_bound)\n",
    "        df[feature] = df[feature].where(non_outliers, np.nan)\n",
    "        \n",
    "if remove_outliers:\n",
    "    for feature in ts_col:\n",
    "        median_val = df[feature].median()\n",
    "        df[feature].fillna(median_val, inplace=True)"
   ]
  },
  {
   "cell_type": "code",
   "execution_count": null,
   "metadata": {},
   "outputs": [],
   "source": [
    "display(df)"
   ]
  },
  {
   "cell_type": "markdown",
   "metadata": {},
   "source": [
    "Calculating predictions:"
   ]
  },
  {
   "cell_type": "markdown",
   "metadata": {},
   "source": [
    "Calculating ARIMA"
   ]
  },
  {
   "cell_type": "code",
   "execution_count": null,
   "metadata": {},
   "outputs": [],
   "source": [
    "def forecast_ARIMA(series, forecast_steps=3):\n",
    "    arima_model = ARIMA(series, order=(1, 1, 0))\n",
    "    fitted_model = arima_model.fit()\n",
    "    future_predictions = fitted_model.forecast(steps=forecast_steps)\n",
    "    return future_predictions"
   ]
  },
  {
   "cell_type": "markdown",
   "metadata": {},
   "source": [
    "Calculating Prophet"
   ]
  },
  {
   "cell_type": "code",
   "execution_count": null,
   "metadata": {},
   "outputs": [],
   "source": [
    "def forecast_Prophet(dataframe, forecast_steps=3):\n",
    "    # Convert the series to a dataframe\n",
    "    df = pd.DataFrame({'ds': dataframe.index, 'y': dataframe.values})\n",
    "    prophet_model = Prophet()\n",
    "    prophet_model.fit(df)\n",
    "    future_dates = prophet_model.make_future_dataframe(periods=forecast_steps, freq='Y')\n",
    "    forecast = prophet_model.predict(future_dates)\n",
    "    return forecast['yhat'][-forecast_steps:].values"
   ]
  },
  {
   "cell_type": "markdown",
   "metadata": {},
   "source": [
    "Calculating LSTM"
   ]
  },
  {
   "cell_type": "code",
   "execution_count": null,
   "metadata": {},
   "outputs": [],
   "source": [
    "def forecast_LSTM(series, forecast_steps=3):\n",
    "    # Reshape the series for scaling\n",
    "    series = series.values.reshape(-1, 1)\n",
    "    scaler = MinMaxScaler(feature_range=(0, 1))\n",
    "    series_scaled = scaler.fit_transform(series)\n",
    "    \n",
    "    # Prepare the dataset for LSTM\n",
    "    X, y = [], []\n",
    "    for i in range(len(series_scaled) - forecast_steps):\n",
    "        X.append(series_scaled[i:i+forecast_steps, 0])\n",
    "        y.append(series_scaled[i+1:i+forecast_steps+1, 0])  \n",
    "    \n",
    "    X = np.array(X)\n",
    "    y = np.array(y)\n",
    "    X = X.reshape((X.shape[0], X.shape[1], 1))\n",
    "    \n",
    "    # Define the LSTM model\n",
    "    model = Sequential()\n",
    "    model.add(LSTM(50, return_sequences=True, input_shape=(forecast_steps, 1)))\n",
    "    model.add(LSTM(50))\n",
    "    model.add(Dense(forecast_steps))\n",
    "    optimizer = Adam(learning_rate=0.001, clipvalue=1.0)  \n",
    "    model.compile(optimizer=optimizer, loss='mean_squared_error')\n",
    "    \n",
    "    # Fit the model\n",
    "    model.fit(X, y, epochs=10, batch_size=32, verbose=0)\n",
    "    \n",
    "    # Make predictions\n",
    "    last_sequence = series_scaled[-forecast_steps:].reshape((1, forecast_steps, 1))\n",
    "    predicted_scaled = model.predict(last_sequence)\n",
    "    predictions = scaler.inverse_transform(predicted_scaled)\n",
    "    \n",
    "    # Return final LSTM predictions\n",
    "    return predictions.flatten()\n"
   ]
  },
  {
   "cell_type": "markdown",
   "metadata": {},
   "source": [
    "Writing the prediction into a dataframe"
   ]
  },
  {
   "cell_type": "code",
   "execution_count": 12,
   "metadata": {},
   "outputs": [
    {
     "name": "stdout",
     "output_type": "stream",
     "text": [
      "\u001b[1m1/1\u001b[0m \u001b[32m━━━━━━━━━━━━━━━━━━━━\u001b[0m\u001b[37m\u001b[0m \u001b[1m0s\u001b[0m 181ms/step\n"
     ]
    },
    {
     "name": "stderr",
     "output_type": "stream",
     "text": [
      "C:\\Users\\altme\\AppData\\Local\\Temp\\ipykernel_18148\\2819226725.py:23: FutureWarning: Series.__getitem__ treating keys as positions is deprecated. In a future version, integer keys will always be treated as labels (consistent with DataFrame behavior). To access a value by position, use `ser.iloc[pos]`\n",
      "  'ARIMA_Pred1': round(arima_predictions[0], 2),\n",
      "C:\\Users\\altme\\AppData\\Local\\Temp\\ipykernel_18148\\2819226725.py:24: FutureWarning: Series.__getitem__ treating keys as positions is deprecated. In a future version, integer keys will always be treated as labels (consistent with DataFrame behavior). To access a value by position, use `ser.iloc[pos]`\n",
      "  'ARIMA_Pred2': round(arima_predictions[1], 2),\n",
      "C:\\Users\\altme\\AppData\\Local\\Temp\\ipykernel_18148\\2819226725.py:25: FutureWarning: Series.__getitem__ treating keys as positions is deprecated. In a future version, integer keys will always be treated as labels (consistent with DataFrame behavior). To access a value by position, use `ser.iloc[pos]`\n",
      "  'ARIMA_Pred3': round(arima_predictions[2], 2),\n",
      "c:\\Users\\altme\\AppData\\Local\\Programs\\Python\\Python312\\Lib\\site-packages\\statsmodels\\tsa\\base\\tsa_model.py:473: ValueWarning: No frequency information was provided, so inferred frequency YS-JAN will be used.\n",
      "  self._init_dates(dates, freq)\n",
      "c:\\Users\\altme\\AppData\\Local\\Programs\\Python\\Python312\\Lib\\site-packages\\statsmodels\\tsa\\base\\tsa_model.py:473: ValueWarning: No frequency information was provided, so inferred frequency YS-JAN will be used.\n",
      "  self._init_dates(dates, freq)\n",
      "c:\\Users\\altme\\AppData\\Local\\Programs\\Python\\Python312\\Lib\\site-packages\\statsmodels\\tsa\\base\\tsa_model.py:473: ValueWarning: No frequency information was provided, so inferred frequency YS-JAN will be used.\n",
      "  self._init_dates(dates, freq)\n",
      "C:\\Users\\altme\\AppData\\Local\\Temp\\ipykernel_18148\\2819226725.py:9: FutureWarning: Series.__getitem__ treating keys as positions is deprecated. In a future version, integer keys will always be treated as labels (consistent with DataFrame behavior). To access a value by position, use `ser.iloc[pos]`\n",
      "  arima_mape = [round(mape([actual_values[i]], [arima_predictions[i]]), 2) * 100 for i in range(len(actual_values))]\n",
      "C:\\Users\\altme\\AppData\\Local\\Temp\\ipykernel_18148\\2819226725.py:9: FutureWarning: Series.__getitem__ treating keys as positions is deprecated. In a future version, integer keys will always be treated as labels (consistent with DataFrame behavior). To access a value by position, use `ser.iloc[pos]`\n",
      "  arima_mape = [round(mape([actual_values[i]], [arima_predictions[i]]), 2) * 100 for i in range(len(actual_values))]\n",
      "C:\\Users\\altme\\AppData\\Local\\Temp\\ipykernel_18148\\2819226725.py:9: FutureWarning: Series.__getitem__ treating keys as positions is deprecated. In a future version, integer keys will always be treated as labels (consistent with DataFrame behavior). To access a value by position, use `ser.iloc[pos]`\n",
      "  arima_mape = [round(mape([actual_values[i]], [arima_predictions[i]]), 2) * 100 for i in range(len(actual_values))]\n",
      "00:06:09 - cmdstanpy - INFO - Chain [1] start processing\n",
      "00:06:09 - cmdstanpy - INFO - Chain [1] done processing\n",
      "c:\\Users\\altme\\AppData\\Local\\Programs\\Python\\Python312\\Lib\\site-packages\\prophet\\forecaster.py:1854: FutureWarning: 'Y' is deprecated and will be removed in a future version, please use 'YE' instead.\n",
      "  dates = pd.date_range(\n",
      "c:\\Users\\altme\\AppData\\Local\\Programs\\Python\\Python312\\Lib\\site-packages\\keras\\src\\layers\\rnn\\rnn.py:204: UserWarning: Do not pass an `input_shape`/`input_dim` argument to a layer. When using Sequential models, prefer using an `Input(shape)` object as the first layer in the model instead.\n",
      "  super().__init__(**kwargs)\n"
     ]
    },
    {
     "name": "stdout",
     "output_type": "stream",
     "text": [
      "\u001b[1m1/1\u001b[0m \u001b[32m━━━━━━━━━━━━━━━━━━━━\u001b[0m\u001b[37m\u001b[0m \u001b[1m0s\u001b[0m 181ms/step\n"
     ]
    },
    {
     "name": "stderr",
     "output_type": "stream",
     "text": [
      "C:\\Users\\altme\\AppData\\Local\\Temp\\ipykernel_18148\\2819226725.py:23: FutureWarning: Series.__getitem__ treating keys as positions is deprecated. In a future version, integer keys will always be treated as labels (consistent with DataFrame behavior). To access a value by position, use `ser.iloc[pos]`\n",
      "  'ARIMA_Pred1': round(arima_predictions[0], 2),\n",
      "C:\\Users\\altme\\AppData\\Local\\Temp\\ipykernel_18148\\2819226725.py:24: FutureWarning: Series.__getitem__ treating keys as positions is deprecated. In a future version, integer keys will always be treated as labels (consistent with DataFrame behavior). To access a value by position, use `ser.iloc[pos]`\n",
      "  'ARIMA_Pred2': round(arima_predictions[1], 2),\n",
      "C:\\Users\\altme\\AppData\\Local\\Temp\\ipykernel_18148\\2819226725.py:25: FutureWarning: Series.__getitem__ treating keys as positions is deprecated. In a future version, integer keys will always be treated as labels (consistent with DataFrame behavior). To access a value by position, use `ser.iloc[pos]`\n",
      "  'ARIMA_Pred3': round(arima_predictions[2], 2),\n",
      "c:\\Users\\altme\\AppData\\Local\\Programs\\Python\\Python312\\Lib\\site-packages\\statsmodels\\tsa\\base\\tsa_model.py:473: ValueWarning: No frequency information was provided, so inferred frequency YS-JAN will be used.\n",
      "  self._init_dates(dates, freq)\n",
      "c:\\Users\\altme\\AppData\\Local\\Programs\\Python\\Python312\\Lib\\site-packages\\statsmodels\\tsa\\base\\tsa_model.py:473: ValueWarning: No frequency information was provided, so inferred frequency YS-JAN will be used.\n",
      "  self._init_dates(dates, freq)\n",
      "c:\\Users\\altme\\AppData\\Local\\Programs\\Python\\Python312\\Lib\\site-packages\\statsmodels\\tsa\\base\\tsa_model.py:473: ValueWarning: No frequency information was provided, so inferred frequency YS-JAN will be used.\n",
      "  self._init_dates(dates, freq)\n",
      "C:\\Users\\altme\\AppData\\Local\\Temp\\ipykernel_18148\\2819226725.py:9: FutureWarning: Series.__getitem__ treating keys as positions is deprecated. In a future version, integer keys will always be treated as labels (consistent with DataFrame behavior). To access a value by position, use `ser.iloc[pos]`\n",
      "  arima_mape = [round(mape([actual_values[i]], [arima_predictions[i]]), 2) * 100 for i in range(len(actual_values))]\n",
      "C:\\Users\\altme\\AppData\\Local\\Temp\\ipykernel_18148\\2819226725.py:9: FutureWarning: Series.__getitem__ treating keys as positions is deprecated. In a future version, integer keys will always be treated as labels (consistent with DataFrame behavior). To access a value by position, use `ser.iloc[pos]`\n",
      "  arima_mape = [round(mape([actual_values[i]], [arima_predictions[i]]), 2) * 100 for i in range(len(actual_values))]\n",
      "C:\\Users\\altme\\AppData\\Local\\Temp\\ipykernel_18148\\2819226725.py:9: FutureWarning: Series.__getitem__ treating keys as positions is deprecated. In a future version, integer keys will always be treated as labels (consistent with DataFrame behavior). To access a value by position, use `ser.iloc[pos]`\n",
      "  arima_mape = [round(mape([actual_values[i]], [arima_predictions[i]]), 2) * 100 for i in range(len(actual_values))]\n",
      "00:06:12 - cmdstanpy - INFO - Chain [1] start processing\n",
      "00:06:12 - cmdstanpy - INFO - Chain [1] done processing\n",
      "c:\\Users\\altme\\AppData\\Local\\Programs\\Python\\Python312\\Lib\\site-packages\\prophet\\forecaster.py:1854: FutureWarning: 'Y' is deprecated and will be removed in a future version, please use 'YE' instead.\n",
      "  dates = pd.date_range(\n",
      "c:\\Users\\altme\\AppData\\Local\\Programs\\Python\\Python312\\Lib\\site-packages\\keras\\src\\layers\\rnn\\rnn.py:204: UserWarning: Do not pass an `input_shape`/`input_dim` argument to a layer. When using Sequential models, prefer using an `Input(shape)` object as the first layer in the model instead.\n",
      "  super().__init__(**kwargs)\n"
     ]
    },
    {
     "name": "stdout",
     "output_type": "stream",
     "text": [
      "\u001b[1m1/1\u001b[0m \u001b[32m━━━━━━━━━━━━━━━━━━━━\u001b[0m\u001b[37m\u001b[0m \u001b[1m0s\u001b[0m 176ms/step\n"
     ]
    },
    {
     "name": "stderr",
     "output_type": "stream",
     "text": [
      "C:\\Users\\altme\\AppData\\Local\\Temp\\ipykernel_18148\\2819226725.py:23: FutureWarning: Series.__getitem__ treating keys as positions is deprecated. In a future version, integer keys will always be treated as labels (consistent with DataFrame behavior). To access a value by position, use `ser.iloc[pos]`\n",
      "  'ARIMA_Pred1': round(arima_predictions[0], 2),\n",
      "C:\\Users\\altme\\AppData\\Local\\Temp\\ipykernel_18148\\2819226725.py:24: FutureWarning: Series.__getitem__ treating keys as positions is deprecated. In a future version, integer keys will always be treated as labels (consistent with DataFrame behavior). To access a value by position, use `ser.iloc[pos]`\n",
      "  'ARIMA_Pred2': round(arima_predictions[1], 2),\n",
      "C:\\Users\\altme\\AppData\\Local\\Temp\\ipykernel_18148\\2819226725.py:25: FutureWarning: Series.__getitem__ treating keys as positions is deprecated. In a future version, integer keys will always be treated as labels (consistent with DataFrame behavior). To access a value by position, use `ser.iloc[pos]`\n",
      "  'ARIMA_Pred3': round(arima_predictions[2], 2),\n",
      "c:\\Users\\altme\\AppData\\Local\\Programs\\Python\\Python312\\Lib\\site-packages\\statsmodels\\tsa\\base\\tsa_model.py:473: ValueWarning: No frequency information was provided, so inferred frequency YS-JAN will be used.\n",
      "  self._init_dates(dates, freq)\n",
      "c:\\Users\\altme\\AppData\\Local\\Programs\\Python\\Python312\\Lib\\site-packages\\statsmodels\\tsa\\base\\tsa_model.py:473: ValueWarning: No frequency information was provided, so inferred frequency YS-JAN will be used.\n",
      "  self._init_dates(dates, freq)\n",
      "c:\\Users\\altme\\AppData\\Local\\Programs\\Python\\Python312\\Lib\\site-packages\\statsmodels\\tsa\\base\\tsa_model.py:473: ValueWarning: No frequency information was provided, so inferred frequency YS-JAN will be used.\n",
      "  self._init_dates(dates, freq)\n",
      "C:\\Users\\altme\\AppData\\Local\\Temp\\ipykernel_18148\\2819226725.py:9: FutureWarning: Series.__getitem__ treating keys as positions is deprecated. In a future version, integer keys will always be treated as labels (consistent with DataFrame behavior). To access a value by position, use `ser.iloc[pos]`\n",
      "  arima_mape = [round(mape([actual_values[i]], [arima_predictions[i]]), 2) * 100 for i in range(len(actual_values))]\n",
      "C:\\Users\\altme\\AppData\\Local\\Temp\\ipykernel_18148\\2819226725.py:9: FutureWarning: Series.__getitem__ treating keys as positions is deprecated. In a future version, integer keys will always be treated as labels (consistent with DataFrame behavior). To access a value by position, use `ser.iloc[pos]`\n",
      "  arima_mape = [round(mape([actual_values[i]], [arima_predictions[i]]), 2) * 100 for i in range(len(actual_values))]\n",
      "C:\\Users\\altme\\AppData\\Local\\Temp\\ipykernel_18148\\2819226725.py:9: FutureWarning: Series.__getitem__ treating keys as positions is deprecated. In a future version, integer keys will always be treated as labels (consistent with DataFrame behavior). To access a value by position, use `ser.iloc[pos]`\n",
      "  arima_mape = [round(mape([actual_values[i]], [arima_predictions[i]]), 2) * 100 for i in range(len(actual_values))]\n",
      "00:06:14 - cmdstanpy - INFO - Chain [1] start processing\n",
      "00:06:14 - cmdstanpy - INFO - Chain [1] done processing\n",
      "c:\\Users\\altme\\AppData\\Local\\Programs\\Python\\Python312\\Lib\\site-packages\\prophet\\forecaster.py:1854: FutureWarning: 'Y' is deprecated and will be removed in a future version, please use 'YE' instead.\n",
      "  dates = pd.date_range(\n",
      "c:\\Users\\altme\\AppData\\Local\\Programs\\Python\\Python312\\Lib\\site-packages\\keras\\src\\layers\\rnn\\rnn.py:204: UserWarning: Do not pass an `input_shape`/`input_dim` argument to a layer. When using Sequential models, prefer using an `Input(shape)` object as the first layer in the model instead.\n",
      "  super().__init__(**kwargs)\n"
     ]
    },
    {
     "name": "stdout",
     "output_type": "stream",
     "text": [
      "\u001b[1m1/1\u001b[0m \u001b[32m━━━━━━━━━━━━━━━━━━━━\u001b[0m\u001b[37m\u001b[0m \u001b[1m0s\u001b[0m 181ms/step\n"
     ]
    },
    {
     "name": "stderr",
     "output_type": "stream",
     "text": [
      "C:\\Users\\altme\\AppData\\Local\\Temp\\ipykernel_18148\\2819226725.py:23: FutureWarning: Series.__getitem__ treating keys as positions is deprecated. In a future version, integer keys will always be treated as labels (consistent with DataFrame behavior). To access a value by position, use `ser.iloc[pos]`\n",
      "  'ARIMA_Pred1': round(arima_predictions[0], 2),\n",
      "C:\\Users\\altme\\AppData\\Local\\Temp\\ipykernel_18148\\2819226725.py:24: FutureWarning: Series.__getitem__ treating keys as positions is deprecated. In a future version, integer keys will always be treated as labels (consistent with DataFrame behavior). To access a value by position, use `ser.iloc[pos]`\n",
      "  'ARIMA_Pred2': round(arima_predictions[1], 2),\n",
      "C:\\Users\\altme\\AppData\\Local\\Temp\\ipykernel_18148\\2819226725.py:25: FutureWarning: Series.__getitem__ treating keys as positions is deprecated. In a future version, integer keys will always be treated as labels (consistent with DataFrame behavior). To access a value by position, use `ser.iloc[pos]`\n",
      "  'ARIMA_Pred3': round(arima_predictions[2], 2),\n",
      "c:\\Users\\altme\\AppData\\Local\\Programs\\Python\\Python312\\Lib\\site-packages\\statsmodels\\tsa\\base\\tsa_model.py:473: ValueWarning: No frequency information was provided, so inferred frequency YS-JAN will be used.\n",
      "  self._init_dates(dates, freq)\n",
      "c:\\Users\\altme\\AppData\\Local\\Programs\\Python\\Python312\\Lib\\site-packages\\statsmodels\\tsa\\base\\tsa_model.py:473: ValueWarning: No frequency information was provided, so inferred frequency YS-JAN will be used.\n",
      "  self._init_dates(dates, freq)\n",
      "c:\\Users\\altme\\AppData\\Local\\Programs\\Python\\Python312\\Lib\\site-packages\\statsmodels\\tsa\\base\\tsa_model.py:473: ValueWarning: No frequency information was provided, so inferred frequency YS-JAN will be used.\n",
      "  self._init_dates(dates, freq)\n",
      "C:\\Users\\altme\\AppData\\Local\\Temp\\ipykernel_18148\\2819226725.py:9: FutureWarning: Series.__getitem__ treating keys as positions is deprecated. In a future version, integer keys will always be treated as labels (consistent with DataFrame behavior). To access a value by position, use `ser.iloc[pos]`\n",
      "  arima_mape = [round(mape([actual_values[i]], [arima_predictions[i]]), 2) * 100 for i in range(len(actual_values))]\n",
      "C:\\Users\\altme\\AppData\\Local\\Temp\\ipykernel_18148\\2819226725.py:9: FutureWarning: Series.__getitem__ treating keys as positions is deprecated. In a future version, integer keys will always be treated as labels (consistent with DataFrame behavior). To access a value by position, use `ser.iloc[pos]`\n",
      "  arima_mape = [round(mape([actual_values[i]], [arima_predictions[i]]), 2) * 100 for i in range(len(actual_values))]\n",
      "C:\\Users\\altme\\AppData\\Local\\Temp\\ipykernel_18148\\2819226725.py:9: FutureWarning: Series.__getitem__ treating keys as positions is deprecated. In a future version, integer keys will always be treated as labels (consistent with DataFrame behavior). To access a value by position, use `ser.iloc[pos]`\n",
      "  arima_mape = [round(mape([actual_values[i]], [arima_predictions[i]]), 2) * 100 for i in range(len(actual_values))]\n",
      "00:06:17 - cmdstanpy - INFO - Chain [1] start processing\n",
      "00:06:17 - cmdstanpy - INFO - Chain [1] done processing\n",
      "c:\\Users\\altme\\AppData\\Local\\Programs\\Python\\Python312\\Lib\\site-packages\\prophet\\forecaster.py:1854: FutureWarning: 'Y' is deprecated and will be removed in a future version, please use 'YE' instead.\n",
      "  dates = pd.date_range(\n",
      "c:\\Users\\altme\\AppData\\Local\\Programs\\Python\\Python312\\Lib\\site-packages\\keras\\src\\layers\\rnn\\rnn.py:204: UserWarning: Do not pass an `input_shape`/`input_dim` argument to a layer. When using Sequential models, prefer using an `Input(shape)` object as the first layer in the model instead.\n",
      "  super().__init__(**kwargs)\n"
     ]
    },
    {
     "name": "stdout",
     "output_type": "stream",
     "text": [
      "\u001b[1m1/1\u001b[0m \u001b[32m━━━━━━━━━━━━━━━━━━━━\u001b[0m\u001b[37m\u001b[0m \u001b[1m0s\u001b[0m 186ms/step\n"
     ]
    },
    {
     "name": "stderr",
     "output_type": "stream",
     "text": [
      "C:\\Users\\altme\\AppData\\Local\\Temp\\ipykernel_18148\\2819226725.py:23: FutureWarning: Series.__getitem__ treating keys as positions is deprecated. In a future version, integer keys will always be treated as labels (consistent with DataFrame behavior). To access a value by position, use `ser.iloc[pos]`\n",
      "  'ARIMA_Pred1': round(arima_predictions[0], 2),\n",
      "C:\\Users\\altme\\AppData\\Local\\Temp\\ipykernel_18148\\2819226725.py:24: FutureWarning: Series.__getitem__ treating keys as positions is deprecated. In a future version, integer keys will always be treated as labels (consistent with DataFrame behavior). To access a value by position, use `ser.iloc[pos]`\n",
      "  'ARIMA_Pred2': round(arima_predictions[1], 2),\n",
      "C:\\Users\\altme\\AppData\\Local\\Temp\\ipykernel_18148\\2819226725.py:25: FutureWarning: Series.__getitem__ treating keys as positions is deprecated. In a future version, integer keys will always be treated as labels (consistent with DataFrame behavior). To access a value by position, use `ser.iloc[pos]`\n",
      "  'ARIMA_Pred3': round(arima_predictions[2], 2),\n",
      "c:\\Users\\altme\\AppData\\Local\\Programs\\Python\\Python312\\Lib\\site-packages\\statsmodels\\tsa\\base\\tsa_model.py:473: ValueWarning: No frequency information was provided, so inferred frequency YS-JAN will be used.\n",
      "  self._init_dates(dates, freq)\n",
      "c:\\Users\\altme\\AppData\\Local\\Programs\\Python\\Python312\\Lib\\site-packages\\statsmodels\\tsa\\base\\tsa_model.py:473: ValueWarning: No frequency information was provided, so inferred frequency YS-JAN will be used.\n",
      "  self._init_dates(dates, freq)\n",
      "c:\\Users\\altme\\AppData\\Local\\Programs\\Python\\Python312\\Lib\\site-packages\\statsmodels\\tsa\\base\\tsa_model.py:473: ValueWarning: No frequency information was provided, so inferred frequency YS-JAN will be used.\n",
      "  self._init_dates(dates, freq)\n",
      "C:\\Users\\altme\\AppData\\Local\\Temp\\ipykernel_18148\\2819226725.py:9: FutureWarning: Series.__getitem__ treating keys as positions is deprecated. In a future version, integer keys will always be treated as labels (consistent with DataFrame behavior). To access a value by position, use `ser.iloc[pos]`\n",
      "  arima_mape = [round(mape([actual_values[i]], [arima_predictions[i]]), 2) * 100 for i in range(len(actual_values))]\n",
      "C:\\Users\\altme\\AppData\\Local\\Temp\\ipykernel_18148\\2819226725.py:9: FutureWarning: Series.__getitem__ treating keys as positions is deprecated. In a future version, integer keys will always be treated as labels (consistent with DataFrame behavior). To access a value by position, use `ser.iloc[pos]`\n",
      "  arima_mape = [round(mape([actual_values[i]], [arima_predictions[i]]), 2) * 100 for i in range(len(actual_values))]\n",
      "C:\\Users\\altme\\AppData\\Local\\Temp\\ipykernel_18148\\2819226725.py:9: FutureWarning: Series.__getitem__ treating keys as positions is deprecated. In a future version, integer keys will always be treated as labels (consistent with DataFrame behavior). To access a value by position, use `ser.iloc[pos]`\n",
      "  arima_mape = [round(mape([actual_values[i]], [arima_predictions[i]]), 2) * 100 for i in range(len(actual_values))]\n",
      "00:06:19 - cmdstanpy - INFO - Chain [1] start processing\n",
      "00:06:19 - cmdstanpy - INFO - Chain [1] done processing\n",
      "c:\\Users\\altme\\AppData\\Local\\Programs\\Python\\Python312\\Lib\\site-packages\\prophet\\forecaster.py:1854: FutureWarning: 'Y' is deprecated and will be removed in a future version, please use 'YE' instead.\n",
      "  dates = pd.date_range(\n",
      "c:\\Users\\altme\\AppData\\Local\\Programs\\Python\\Python312\\Lib\\site-packages\\keras\\src\\layers\\rnn\\rnn.py:204: UserWarning: Do not pass an `input_shape`/`input_dim` argument to a layer. When using Sequential models, prefer using an `Input(shape)` object as the first layer in the model instead.\n",
      "  super().__init__(**kwargs)\n"
     ]
    },
    {
     "name": "stdout",
     "output_type": "stream",
     "text": [
      "\u001b[1m1/1\u001b[0m \u001b[32m━━━━━━━━━━━━━━━━━━━━\u001b[0m\u001b[37m\u001b[0m \u001b[1m0s\u001b[0m 176ms/step\n"
     ]
    },
    {
     "name": "stderr",
     "output_type": "stream",
     "text": [
      "C:\\Users\\altme\\AppData\\Local\\Temp\\ipykernel_18148\\2819226725.py:23: FutureWarning: Series.__getitem__ treating keys as positions is deprecated. In a future version, integer keys will always be treated as labels (consistent with DataFrame behavior). To access a value by position, use `ser.iloc[pos]`\n",
      "  'ARIMA_Pred1': round(arima_predictions[0], 2),\n",
      "C:\\Users\\altme\\AppData\\Local\\Temp\\ipykernel_18148\\2819226725.py:24: FutureWarning: Series.__getitem__ treating keys as positions is deprecated. In a future version, integer keys will always be treated as labels (consistent with DataFrame behavior). To access a value by position, use `ser.iloc[pos]`\n",
      "  'ARIMA_Pred2': round(arima_predictions[1], 2),\n",
      "C:\\Users\\altme\\AppData\\Local\\Temp\\ipykernel_18148\\2819226725.py:25: FutureWarning: Series.__getitem__ treating keys as positions is deprecated. In a future version, integer keys will always be treated as labels (consistent with DataFrame behavior). To access a value by position, use `ser.iloc[pos]`\n",
      "  'ARIMA_Pred3': round(arima_predictions[2], 2),\n",
      "c:\\Users\\altme\\AppData\\Local\\Programs\\Python\\Python312\\Lib\\site-packages\\statsmodels\\tsa\\base\\tsa_model.py:473: ValueWarning: No frequency information was provided, so inferred frequency YS-JAN will be used.\n",
      "  self._init_dates(dates, freq)\n",
      "c:\\Users\\altme\\AppData\\Local\\Programs\\Python\\Python312\\Lib\\site-packages\\statsmodels\\tsa\\base\\tsa_model.py:473: ValueWarning: No frequency information was provided, so inferred frequency YS-JAN will be used.\n",
      "  self._init_dates(dates, freq)\n",
      "c:\\Users\\altme\\AppData\\Local\\Programs\\Python\\Python312\\Lib\\site-packages\\statsmodels\\tsa\\base\\tsa_model.py:473: ValueWarning: No frequency information was provided, so inferred frequency YS-JAN will be used.\n",
      "  self._init_dates(dates, freq)\n",
      "C:\\Users\\altme\\AppData\\Local\\Temp\\ipykernel_18148\\2819226725.py:9: FutureWarning: Series.__getitem__ treating keys as positions is deprecated. In a future version, integer keys will always be treated as labels (consistent with DataFrame behavior). To access a value by position, use `ser.iloc[pos]`\n",
      "  arima_mape = [round(mape([actual_values[i]], [arima_predictions[i]]), 2) * 100 for i in range(len(actual_values))]\n",
      "C:\\Users\\altme\\AppData\\Local\\Temp\\ipykernel_18148\\2819226725.py:9: FutureWarning: Series.__getitem__ treating keys as positions is deprecated. In a future version, integer keys will always be treated as labels (consistent with DataFrame behavior). To access a value by position, use `ser.iloc[pos]`\n",
      "  arima_mape = [round(mape([actual_values[i]], [arima_predictions[i]]), 2) * 100 for i in range(len(actual_values))]\n",
      "C:\\Users\\altme\\AppData\\Local\\Temp\\ipykernel_18148\\2819226725.py:9: FutureWarning: Series.__getitem__ treating keys as positions is deprecated. In a future version, integer keys will always be treated as labels (consistent with DataFrame behavior). To access a value by position, use `ser.iloc[pos]`\n",
      "  arima_mape = [round(mape([actual_values[i]], [arima_predictions[i]]), 2) * 100 for i in range(len(actual_values))]\n",
      "00:06:22 - cmdstanpy - INFO - Chain [1] start processing\n",
      "00:06:22 - cmdstanpy - INFO - Chain [1] done processing\n",
      "c:\\Users\\altme\\AppData\\Local\\Programs\\Python\\Python312\\Lib\\site-packages\\prophet\\forecaster.py:1854: FutureWarning: 'Y' is deprecated and will be removed in a future version, please use 'YE' instead.\n",
      "  dates = pd.date_range(\n",
      "c:\\Users\\altme\\AppData\\Local\\Programs\\Python\\Python312\\Lib\\site-packages\\keras\\src\\layers\\rnn\\rnn.py:204: UserWarning: Do not pass an `input_shape`/`input_dim` argument to a layer. When using Sequential models, prefer using an `Input(shape)` object as the first layer in the model instead.\n",
      "  super().__init__(**kwargs)\n"
     ]
    },
    {
     "name": "stdout",
     "output_type": "stream",
     "text": [
      "\u001b[1m1/1\u001b[0m \u001b[32m━━━━━━━━━━━━━━━━━━━━\u001b[0m\u001b[37m\u001b[0m \u001b[1m0s\u001b[0m 181ms/step\n"
     ]
    },
    {
     "name": "stderr",
     "output_type": "stream",
     "text": [
      "C:\\Users\\altme\\AppData\\Local\\Temp\\ipykernel_18148\\2819226725.py:23: FutureWarning: Series.__getitem__ treating keys as positions is deprecated. In a future version, integer keys will always be treated as labels (consistent with DataFrame behavior). To access a value by position, use `ser.iloc[pos]`\n",
      "  'ARIMA_Pred1': round(arima_predictions[0], 2),\n",
      "C:\\Users\\altme\\AppData\\Local\\Temp\\ipykernel_18148\\2819226725.py:24: FutureWarning: Series.__getitem__ treating keys as positions is deprecated. In a future version, integer keys will always be treated as labels (consistent with DataFrame behavior). To access a value by position, use `ser.iloc[pos]`\n",
      "  'ARIMA_Pred2': round(arima_predictions[1], 2),\n",
      "C:\\Users\\altme\\AppData\\Local\\Temp\\ipykernel_18148\\2819226725.py:25: FutureWarning: Series.__getitem__ treating keys as positions is deprecated. In a future version, integer keys will always be treated as labels (consistent with DataFrame behavior). To access a value by position, use `ser.iloc[pos]`\n",
      "  'ARIMA_Pred3': round(arima_predictions[2], 2),\n",
      "c:\\Users\\altme\\AppData\\Local\\Programs\\Python\\Python312\\Lib\\site-packages\\statsmodels\\tsa\\base\\tsa_model.py:473: ValueWarning: No frequency information was provided, so inferred frequency YS-JAN will be used.\n",
      "  self._init_dates(dates, freq)\n",
      "c:\\Users\\altme\\AppData\\Local\\Programs\\Python\\Python312\\Lib\\site-packages\\statsmodels\\tsa\\base\\tsa_model.py:473: ValueWarning: No frequency information was provided, so inferred frequency YS-JAN will be used.\n",
      "  self._init_dates(dates, freq)\n",
      "c:\\Users\\altme\\AppData\\Local\\Programs\\Python\\Python312\\Lib\\site-packages\\statsmodels\\tsa\\base\\tsa_model.py:473: ValueWarning: No frequency information was provided, so inferred frequency YS-JAN will be used.\n",
      "  self._init_dates(dates, freq)\n",
      "C:\\Users\\altme\\AppData\\Local\\Temp\\ipykernel_18148\\2819226725.py:9: FutureWarning: Series.__getitem__ treating keys as positions is deprecated. In a future version, integer keys will always be treated as labels (consistent with DataFrame behavior). To access a value by position, use `ser.iloc[pos]`\n",
      "  arima_mape = [round(mape([actual_values[i]], [arima_predictions[i]]), 2) * 100 for i in range(len(actual_values))]\n",
      "C:\\Users\\altme\\AppData\\Local\\Temp\\ipykernel_18148\\2819226725.py:9: FutureWarning: Series.__getitem__ treating keys as positions is deprecated. In a future version, integer keys will always be treated as labels (consistent with DataFrame behavior). To access a value by position, use `ser.iloc[pos]`\n",
      "  arima_mape = [round(mape([actual_values[i]], [arima_predictions[i]]), 2) * 100 for i in range(len(actual_values))]\n",
      "C:\\Users\\altme\\AppData\\Local\\Temp\\ipykernel_18148\\2819226725.py:9: FutureWarning: Series.__getitem__ treating keys as positions is deprecated. In a future version, integer keys will always be treated as labels (consistent with DataFrame behavior). To access a value by position, use `ser.iloc[pos]`\n",
      "  arima_mape = [round(mape([actual_values[i]], [arima_predictions[i]]), 2) * 100 for i in range(len(actual_values))]\n",
      "00:06:24 - cmdstanpy - INFO - Chain [1] start processing\n",
      "00:06:24 - cmdstanpy - INFO - Chain [1] done processing\n",
      "c:\\Users\\altme\\AppData\\Local\\Programs\\Python\\Python312\\Lib\\site-packages\\prophet\\forecaster.py:1854: FutureWarning: 'Y' is deprecated and will be removed in a future version, please use 'YE' instead.\n",
      "  dates = pd.date_range(\n",
      "c:\\Users\\altme\\AppData\\Local\\Programs\\Python\\Python312\\Lib\\site-packages\\keras\\src\\layers\\rnn\\rnn.py:204: UserWarning: Do not pass an `input_shape`/`input_dim` argument to a layer. When using Sequential models, prefer using an `Input(shape)` object as the first layer in the model instead.\n",
      "  super().__init__(**kwargs)\n"
     ]
    },
    {
     "name": "stdout",
     "output_type": "stream",
     "text": [
      "\u001b[1m1/1\u001b[0m \u001b[32m━━━━━━━━━━━━━━━━━━━━\u001b[0m\u001b[37m\u001b[0m \u001b[1m0s\u001b[0m 190ms/step\n"
     ]
    },
    {
     "name": "stderr",
     "output_type": "stream",
     "text": [
      "C:\\Users\\altme\\AppData\\Local\\Temp\\ipykernel_18148\\2819226725.py:23: FutureWarning: Series.__getitem__ treating keys as positions is deprecated. In a future version, integer keys will always be treated as labels (consistent with DataFrame behavior). To access a value by position, use `ser.iloc[pos]`\n",
      "  'ARIMA_Pred1': round(arima_predictions[0], 2),\n",
      "C:\\Users\\altme\\AppData\\Local\\Temp\\ipykernel_18148\\2819226725.py:24: FutureWarning: Series.__getitem__ treating keys as positions is deprecated. In a future version, integer keys will always be treated as labels (consistent with DataFrame behavior). To access a value by position, use `ser.iloc[pos]`\n",
      "  'ARIMA_Pred2': round(arima_predictions[1], 2),\n",
      "C:\\Users\\altme\\AppData\\Local\\Temp\\ipykernel_18148\\2819226725.py:25: FutureWarning: Series.__getitem__ treating keys as positions is deprecated. In a future version, integer keys will always be treated as labels (consistent with DataFrame behavior). To access a value by position, use `ser.iloc[pos]`\n",
      "  'ARIMA_Pred3': round(arima_predictions[2], 2),\n",
      "c:\\Users\\altme\\AppData\\Local\\Programs\\Python\\Python312\\Lib\\site-packages\\statsmodels\\tsa\\base\\tsa_model.py:473: ValueWarning: No frequency information was provided, so inferred frequency YS-JAN will be used.\n",
      "  self._init_dates(dates, freq)\n",
      "c:\\Users\\altme\\AppData\\Local\\Programs\\Python\\Python312\\Lib\\site-packages\\statsmodels\\tsa\\base\\tsa_model.py:473: ValueWarning: No frequency information was provided, so inferred frequency YS-JAN will be used.\n",
      "  self._init_dates(dates, freq)\n",
      "c:\\Users\\altme\\AppData\\Local\\Programs\\Python\\Python312\\Lib\\site-packages\\statsmodels\\tsa\\base\\tsa_model.py:473: ValueWarning: No frequency information was provided, so inferred frequency YS-JAN will be used.\n",
      "  self._init_dates(dates, freq)\n",
      "C:\\Users\\altme\\AppData\\Local\\Temp\\ipykernel_18148\\2819226725.py:9: FutureWarning: Series.__getitem__ treating keys as positions is deprecated. In a future version, integer keys will always be treated as labels (consistent with DataFrame behavior). To access a value by position, use `ser.iloc[pos]`\n",
      "  arima_mape = [round(mape([actual_values[i]], [arima_predictions[i]]), 2) * 100 for i in range(len(actual_values))]\n",
      "C:\\Users\\altme\\AppData\\Local\\Temp\\ipykernel_18148\\2819226725.py:9: FutureWarning: Series.__getitem__ treating keys as positions is deprecated. In a future version, integer keys will always be treated as labels (consistent with DataFrame behavior). To access a value by position, use `ser.iloc[pos]`\n",
      "  arima_mape = [round(mape([actual_values[i]], [arima_predictions[i]]), 2) * 100 for i in range(len(actual_values))]\n",
      "C:\\Users\\altme\\AppData\\Local\\Temp\\ipykernel_18148\\2819226725.py:9: FutureWarning: Series.__getitem__ treating keys as positions is deprecated. In a future version, integer keys will always be treated as labels (consistent with DataFrame behavior). To access a value by position, use `ser.iloc[pos]`\n",
      "  arima_mape = [round(mape([actual_values[i]], [arima_predictions[i]]), 2) * 100 for i in range(len(actual_values))]\n",
      "00:06:27 - cmdstanpy - INFO - Chain [1] start processing\n",
      "00:06:27 - cmdstanpy - INFO - Chain [1] done processing\n",
      "c:\\Users\\altme\\AppData\\Local\\Programs\\Python\\Python312\\Lib\\site-packages\\prophet\\forecaster.py:1854: FutureWarning: 'Y' is deprecated and will be removed in a future version, please use 'YE' instead.\n",
      "  dates = pd.date_range(\n",
      "c:\\Users\\altme\\AppData\\Local\\Programs\\Python\\Python312\\Lib\\site-packages\\keras\\src\\layers\\rnn\\rnn.py:204: UserWarning: Do not pass an `input_shape`/`input_dim` argument to a layer. When using Sequential models, prefer using an `Input(shape)` object as the first layer in the model instead.\n",
      "  super().__init__(**kwargs)\n"
     ]
    },
    {
     "name": "stdout",
     "output_type": "stream",
     "text": [
      "\u001b[1m1/1\u001b[0m \u001b[32m━━━━━━━━━━━━━━━━━━━━\u001b[0m\u001b[37m\u001b[0m \u001b[1m0s\u001b[0m 197ms/step\n"
     ]
    },
    {
     "name": "stderr",
     "output_type": "stream",
     "text": [
      "C:\\Users\\altme\\AppData\\Local\\Temp\\ipykernel_18148\\2819226725.py:23: FutureWarning: Series.__getitem__ treating keys as positions is deprecated. In a future version, integer keys will always be treated as labels (consistent with DataFrame behavior). To access a value by position, use `ser.iloc[pos]`\n",
      "  'ARIMA_Pred1': round(arima_predictions[0], 2),\n",
      "C:\\Users\\altme\\AppData\\Local\\Temp\\ipykernel_18148\\2819226725.py:24: FutureWarning: Series.__getitem__ treating keys as positions is deprecated. In a future version, integer keys will always be treated as labels (consistent with DataFrame behavior). To access a value by position, use `ser.iloc[pos]`\n",
      "  'ARIMA_Pred2': round(arima_predictions[1], 2),\n",
      "C:\\Users\\altme\\AppData\\Local\\Temp\\ipykernel_18148\\2819226725.py:25: FutureWarning: Series.__getitem__ treating keys as positions is deprecated. In a future version, integer keys will always be treated as labels (consistent with DataFrame behavior). To access a value by position, use `ser.iloc[pos]`\n",
      "  'ARIMA_Pred3': round(arima_predictions[2], 2),\n",
      "c:\\Users\\altme\\AppData\\Local\\Programs\\Python\\Python312\\Lib\\site-packages\\statsmodels\\tsa\\base\\tsa_model.py:473: ValueWarning: No frequency information was provided, so inferred frequency YS-JAN will be used.\n",
      "  self._init_dates(dates, freq)\n",
      "c:\\Users\\altme\\AppData\\Local\\Programs\\Python\\Python312\\Lib\\site-packages\\statsmodels\\tsa\\base\\tsa_model.py:473: ValueWarning: No frequency information was provided, so inferred frequency YS-JAN will be used.\n",
      "  self._init_dates(dates, freq)\n",
      "c:\\Users\\altme\\AppData\\Local\\Programs\\Python\\Python312\\Lib\\site-packages\\statsmodels\\tsa\\base\\tsa_model.py:473: ValueWarning: No frequency information was provided, so inferred frequency YS-JAN will be used.\n",
      "  self._init_dates(dates, freq)\n",
      "C:\\Users\\altme\\AppData\\Local\\Temp\\ipykernel_18148\\2819226725.py:9: FutureWarning: Series.__getitem__ treating keys as positions is deprecated. In a future version, integer keys will always be treated as labels (consistent with DataFrame behavior). To access a value by position, use `ser.iloc[pos]`\n",
      "  arima_mape = [round(mape([actual_values[i]], [arima_predictions[i]]), 2) * 100 for i in range(len(actual_values))]\n",
      "C:\\Users\\altme\\AppData\\Local\\Temp\\ipykernel_18148\\2819226725.py:9: FutureWarning: Series.__getitem__ treating keys as positions is deprecated. In a future version, integer keys will always be treated as labels (consistent with DataFrame behavior). To access a value by position, use `ser.iloc[pos]`\n",
      "  arima_mape = [round(mape([actual_values[i]], [arima_predictions[i]]), 2) * 100 for i in range(len(actual_values))]\n",
      "C:\\Users\\altme\\AppData\\Local\\Temp\\ipykernel_18148\\2819226725.py:9: FutureWarning: Series.__getitem__ treating keys as positions is deprecated. In a future version, integer keys will always be treated as labels (consistent with DataFrame behavior). To access a value by position, use `ser.iloc[pos]`\n",
      "  arima_mape = [round(mape([actual_values[i]], [arima_predictions[i]]), 2) * 100 for i in range(len(actual_values))]\n",
      "00:06:30 - cmdstanpy - INFO - Chain [1] start processing\n",
      "00:06:30 - cmdstanpy - INFO - Chain [1] done processing\n",
      "c:\\Users\\altme\\AppData\\Local\\Programs\\Python\\Python312\\Lib\\site-packages\\prophet\\forecaster.py:1854: FutureWarning: 'Y' is deprecated and will be removed in a future version, please use 'YE' instead.\n",
      "  dates = pd.date_range(\n",
      "c:\\Users\\altme\\AppData\\Local\\Programs\\Python\\Python312\\Lib\\site-packages\\keras\\src\\layers\\rnn\\rnn.py:204: UserWarning: Do not pass an `input_shape`/`input_dim` argument to a layer. When using Sequential models, prefer using an `Input(shape)` object as the first layer in the model instead.\n",
      "  super().__init__(**kwargs)\n"
     ]
    },
    {
     "name": "stdout",
     "output_type": "stream",
     "text": [
      "\u001b[1m1/1\u001b[0m \u001b[32m━━━━━━━━━━━━━━━━━━━━\u001b[0m\u001b[37m\u001b[0m \u001b[1m0s\u001b[0m 179ms/step\n"
     ]
    },
    {
     "name": "stderr",
     "output_type": "stream",
     "text": [
      "C:\\Users\\altme\\AppData\\Local\\Temp\\ipykernel_18148\\2819226725.py:23: FutureWarning: Series.__getitem__ treating keys as positions is deprecated. In a future version, integer keys will always be treated as labels (consistent with DataFrame behavior). To access a value by position, use `ser.iloc[pos]`\n",
      "  'ARIMA_Pred1': round(arima_predictions[0], 2),\n",
      "C:\\Users\\altme\\AppData\\Local\\Temp\\ipykernel_18148\\2819226725.py:24: FutureWarning: Series.__getitem__ treating keys as positions is deprecated. In a future version, integer keys will always be treated as labels (consistent with DataFrame behavior). To access a value by position, use `ser.iloc[pos]`\n",
      "  'ARIMA_Pred2': round(arima_predictions[1], 2),\n",
      "C:\\Users\\altme\\AppData\\Local\\Temp\\ipykernel_18148\\2819226725.py:25: FutureWarning: Series.__getitem__ treating keys as positions is deprecated. In a future version, integer keys will always be treated as labels (consistent with DataFrame behavior). To access a value by position, use `ser.iloc[pos]`\n",
      "  'ARIMA_Pred3': round(arima_predictions[2], 2),\n",
      "c:\\Users\\altme\\AppData\\Local\\Programs\\Python\\Python312\\Lib\\site-packages\\statsmodels\\tsa\\base\\tsa_model.py:473: ValueWarning: No frequency information was provided, so inferred frequency YS-JAN will be used.\n",
      "  self._init_dates(dates, freq)\n",
      "c:\\Users\\altme\\AppData\\Local\\Programs\\Python\\Python312\\Lib\\site-packages\\statsmodels\\tsa\\base\\tsa_model.py:473: ValueWarning: No frequency information was provided, so inferred frequency YS-JAN will be used.\n",
      "  self._init_dates(dates, freq)\n",
      "c:\\Users\\altme\\AppData\\Local\\Programs\\Python\\Python312\\Lib\\site-packages\\statsmodels\\tsa\\base\\tsa_model.py:473: ValueWarning: No frequency information was provided, so inferred frequency YS-JAN will be used.\n",
      "  self._init_dates(dates, freq)\n",
      "C:\\Users\\altme\\AppData\\Local\\Temp\\ipykernel_18148\\2819226725.py:9: FutureWarning: Series.__getitem__ treating keys as positions is deprecated. In a future version, integer keys will always be treated as labels (consistent with DataFrame behavior). To access a value by position, use `ser.iloc[pos]`\n",
      "  arima_mape = [round(mape([actual_values[i]], [arima_predictions[i]]), 2) * 100 for i in range(len(actual_values))]\n",
      "C:\\Users\\altme\\AppData\\Local\\Temp\\ipykernel_18148\\2819226725.py:9: FutureWarning: Series.__getitem__ treating keys as positions is deprecated. In a future version, integer keys will always be treated as labels (consistent with DataFrame behavior). To access a value by position, use `ser.iloc[pos]`\n",
      "  arima_mape = [round(mape([actual_values[i]], [arima_predictions[i]]), 2) * 100 for i in range(len(actual_values))]\n",
      "C:\\Users\\altme\\AppData\\Local\\Temp\\ipykernel_18148\\2819226725.py:9: FutureWarning: Series.__getitem__ treating keys as positions is deprecated. In a future version, integer keys will always be treated as labels (consistent with DataFrame behavior). To access a value by position, use `ser.iloc[pos]`\n",
      "  arima_mape = [round(mape([actual_values[i]], [arima_predictions[i]]), 2) * 100 for i in range(len(actual_values))]\n",
      "00:06:32 - cmdstanpy - INFO - Chain [1] start processing\n",
      "00:06:32 - cmdstanpy - INFO - Chain [1] done processing\n",
      "c:\\Users\\altme\\AppData\\Local\\Programs\\Python\\Python312\\Lib\\site-packages\\prophet\\forecaster.py:1854: FutureWarning: 'Y' is deprecated and will be removed in a future version, please use 'YE' instead.\n",
      "  dates = pd.date_range(\n",
      "c:\\Users\\altme\\AppData\\Local\\Programs\\Python\\Python312\\Lib\\site-packages\\keras\\src\\layers\\rnn\\rnn.py:204: UserWarning: Do not pass an `input_shape`/`input_dim` argument to a layer. When using Sequential models, prefer using an `Input(shape)` object as the first layer in the model instead.\n",
      "  super().__init__(**kwargs)\n"
     ]
    },
    {
     "name": "stdout",
     "output_type": "stream",
     "text": [
      "\u001b[1m1/1\u001b[0m \u001b[32m━━━━━━━━━━━━━━━━━━━━\u001b[0m\u001b[37m\u001b[0m \u001b[1m0s\u001b[0m 176ms/step\n"
     ]
    },
    {
     "name": "stderr",
     "output_type": "stream",
     "text": [
      "C:\\Users\\altme\\AppData\\Local\\Temp\\ipykernel_18148\\2819226725.py:23: FutureWarning: Series.__getitem__ treating keys as positions is deprecated. In a future version, integer keys will always be treated as labels (consistent with DataFrame behavior). To access a value by position, use `ser.iloc[pos]`\n",
      "  'ARIMA_Pred1': round(arima_predictions[0], 2),\n",
      "C:\\Users\\altme\\AppData\\Local\\Temp\\ipykernel_18148\\2819226725.py:24: FutureWarning: Series.__getitem__ treating keys as positions is deprecated. In a future version, integer keys will always be treated as labels (consistent with DataFrame behavior). To access a value by position, use `ser.iloc[pos]`\n",
      "  'ARIMA_Pred2': round(arima_predictions[1], 2),\n",
      "C:\\Users\\altme\\AppData\\Local\\Temp\\ipykernel_18148\\2819226725.py:25: FutureWarning: Series.__getitem__ treating keys as positions is deprecated. In a future version, integer keys will always be treated as labels (consistent with DataFrame behavior). To access a value by position, use `ser.iloc[pos]`\n",
      "  'ARIMA_Pred3': round(arima_predictions[2], 2),\n",
      "c:\\Users\\altme\\AppData\\Local\\Programs\\Python\\Python312\\Lib\\site-packages\\statsmodels\\tsa\\base\\tsa_model.py:473: ValueWarning: No frequency information was provided, so inferred frequency YS-JAN will be used.\n",
      "  self._init_dates(dates, freq)\n",
      "c:\\Users\\altme\\AppData\\Local\\Programs\\Python\\Python312\\Lib\\site-packages\\statsmodels\\tsa\\base\\tsa_model.py:473: ValueWarning: No frequency information was provided, so inferred frequency YS-JAN will be used.\n",
      "  self._init_dates(dates, freq)\n",
      "c:\\Users\\altme\\AppData\\Local\\Programs\\Python\\Python312\\Lib\\site-packages\\statsmodels\\tsa\\base\\tsa_model.py:473: ValueWarning: No frequency information was provided, so inferred frequency YS-JAN will be used.\n",
      "  self._init_dates(dates, freq)\n",
      "C:\\Users\\altme\\AppData\\Local\\Temp\\ipykernel_18148\\2819226725.py:9: FutureWarning: Series.__getitem__ treating keys as positions is deprecated. In a future version, integer keys will always be treated as labels (consistent with DataFrame behavior). To access a value by position, use `ser.iloc[pos]`\n",
      "  arima_mape = [round(mape([actual_values[i]], [arima_predictions[i]]), 2) * 100 for i in range(len(actual_values))]\n",
      "C:\\Users\\altme\\AppData\\Local\\Temp\\ipykernel_18148\\2819226725.py:9: FutureWarning: Series.__getitem__ treating keys as positions is deprecated. In a future version, integer keys will always be treated as labels (consistent with DataFrame behavior). To access a value by position, use `ser.iloc[pos]`\n",
      "  arima_mape = [round(mape([actual_values[i]], [arima_predictions[i]]), 2) * 100 for i in range(len(actual_values))]\n",
      "C:\\Users\\altme\\AppData\\Local\\Temp\\ipykernel_18148\\2819226725.py:9: FutureWarning: Series.__getitem__ treating keys as positions is deprecated. In a future version, integer keys will always be treated as labels (consistent with DataFrame behavior). To access a value by position, use `ser.iloc[pos]`\n",
      "  arima_mape = [round(mape([actual_values[i]], [arima_predictions[i]]), 2) * 100 for i in range(len(actual_values))]\n",
      "00:06:35 - cmdstanpy - INFO - Chain [1] start processing\n",
      "00:06:35 - cmdstanpy - INFO - Chain [1] done processing\n",
      "c:\\Users\\altme\\AppData\\Local\\Programs\\Python\\Python312\\Lib\\site-packages\\prophet\\forecaster.py:1854: FutureWarning: 'Y' is deprecated and will be removed in a future version, please use 'YE' instead.\n",
      "  dates = pd.date_range(\n",
      "c:\\Users\\altme\\AppData\\Local\\Programs\\Python\\Python312\\Lib\\site-packages\\keras\\src\\layers\\rnn\\rnn.py:204: UserWarning: Do not pass an `input_shape`/`input_dim` argument to a layer. When using Sequential models, prefer using an `Input(shape)` object as the first layer in the model instead.\n",
      "  super().__init__(**kwargs)\n"
     ]
    },
    {
     "name": "stdout",
     "output_type": "stream",
     "text": [
      "\u001b[1m1/1\u001b[0m \u001b[32m━━━━━━━━━━━━━━━━━━━━\u001b[0m\u001b[37m\u001b[0m \u001b[1m0s\u001b[0m 188ms/step\n"
     ]
    },
    {
     "name": "stderr",
     "output_type": "stream",
     "text": [
      "C:\\Users\\altme\\AppData\\Local\\Temp\\ipykernel_18148\\2819226725.py:23: FutureWarning: Series.__getitem__ treating keys as positions is deprecated. In a future version, integer keys will always be treated as labels (consistent with DataFrame behavior). To access a value by position, use `ser.iloc[pos]`\n",
      "  'ARIMA_Pred1': round(arima_predictions[0], 2),\n",
      "C:\\Users\\altme\\AppData\\Local\\Temp\\ipykernel_18148\\2819226725.py:24: FutureWarning: Series.__getitem__ treating keys as positions is deprecated. In a future version, integer keys will always be treated as labels (consistent with DataFrame behavior). To access a value by position, use `ser.iloc[pos]`\n",
      "  'ARIMA_Pred2': round(arima_predictions[1], 2),\n",
      "C:\\Users\\altme\\AppData\\Local\\Temp\\ipykernel_18148\\2819226725.py:25: FutureWarning: Series.__getitem__ treating keys as positions is deprecated. In a future version, integer keys will always be treated as labels (consistent with DataFrame behavior). To access a value by position, use `ser.iloc[pos]`\n",
      "  'ARIMA_Pred3': round(arima_predictions[2], 2),\n"
     ]
    }
   ],
   "source": [
    "# Iterate through each row for forecasting\n",
    "results = []\n",
    "for index, row in df.iterrows():\n",
    "    series = row.iloc[ts_col_index:]\n",
    "    actual_values = series[-3:].values\n",
    "    series = series.apply(pd.to_numeric, errors='coerce')\n",
    "    # ARIMA Predictions and MAPE\n",
    "    arima_predictions = forecast_ARIMA(series[:-3])\n",
    "    arima_mape = [round(mape([actual_values[i]], [arima_predictions[i]]), 2) * 100 for i in range(len(actual_values))]\n",
    "    # Prophet Predictions and MAPE\n",
    "    prophet_series = row.iloc[ts_col_index-1:]\n",
    "    prophet_predictions = forecast_Prophet(series)\n",
    "    prophet_mape = [round(mape([actual_values[i]], [prophet_predictions[i]]), 2) * 100 for i in range(len(actual_values))]\n",
    "    # LSTM Predictions and MAPE\n",
    "    lstm_predictions = forecast_LSTM(series)\n",
    "    lstm_mape = [round(mape([actual_values[i]], [lstm_predictions[i]]), 2) * 100 for i in range(len(actual_values))]\n",
    "    # Extract additional information dynamically\n",
    "    explanatory_data = {}\n",
    "    for col_name in row.index:\n",
    "        if col_name not in ts_col:\n",
    "            explanatory_data[col_name] = row[col_name]\n",
    "    results.append({\n",
    "        'ARIMA_Pred1': round(arima_predictions[0], 2), \n",
    "        'ARIMA_Pred2': round(arima_predictions[1], 2),\n",
    "        'ARIMA_Pred3': round(arima_predictions[2], 2),\n",
    "        'ARIMA_Pred1_MAPE': round(arima_mape[0], 2), \n",
    "        'ARIMA_Pred2_MAPE': round(arima_mape[1], 2),\n",
    "        'ARIMA_Pred3_MAPE': round(arima_mape[2], 2),\n",
    "        'Prophet_Pred1': round(prophet_predictions[0], 2),\n",
    "        'Prophet_Pred2': round(prophet_predictions[1], 2),\n",
    "        'Prophet_Pred3': round(prophet_predictions[2], 2),\n",
    "        'Prophet_Pred1_MAPE': round(prophet_mape[0], 2), \n",
    "        'Prophet_Pred2_MAPE': round(prophet_mape[1], 2),\n",
    "        'Prophet_Pred3_MAPE': round(prophet_mape[2], 2),\n",
    "        'LSTM_Pred1': round(lstm_predictions[0], 2), \n",
    "        'LSTM_Pred2': round(lstm_predictions[1], 2),\n",
    "        'LSTM_Pred3': round(lstm_predictions[2], 2),\n",
    "        'LSTM_Pred1_MAPE': round(lstm_mape[0], 2), \n",
    "        'LSTM_Pred2_MAPE': round(lstm_mape[1], 2),\n",
    "        'LSTM_Pred3_MAPE': round(lstm_mape[2], 2),\n",
    "    })"
   ]
  },
  {
   "cell_type": "markdown",
   "metadata": {},
   "source": [
    "exporting the final output as csv file"
   ]
  },
  {
   "cell_type": "code",
   "execution_count": 13,
   "metadata": {},
   "outputs": [],
   "source": [
    "# Create DataFrame from results\n",
    "results_df = pd.DataFrame(results)\n",
    "\n",
    "# Reset index of both DataFrames\n",
    "df.reset_index(drop=True, inplace=True)\n",
    "results_df.reset_index(drop=True, inplace=True)\n",
    "\n",
    "# Merge with original data\n",
    "merged_df = pd.concat([df, results_df], axis=1)\n",
    "\n",
    "# Save the final output to a new CSV file\n",
    "merged_df.to_csv('final_output.csv', index=False)"
   ]
  }
 ],
 "metadata": {
  "kernelspec": {
   "display_name": "Python 3",
   "language": "python",
   "name": "python3"
  },
  "language_info": {
   "codemirror_mode": {
    "name": "ipython",
    "version": 3
   },
   "file_extension": ".py",
   "mimetype": "text/x-python",
   "name": "python",
   "nbconvert_exporter": "python",
   "pygments_lexer": "ipython3",
   "version": "3.12.3"
  }
 },
 "nbformat": 4,
 "nbformat_minor": 2
}
